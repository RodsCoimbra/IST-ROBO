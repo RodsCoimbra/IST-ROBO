{
 "cells": [
  {
   "cell_type": "code",
   "execution_count": null,
   "metadata": {
    "vscode": {
     "languageId": "plaintext"
    }
   },
   "outputs": [],
   "source": [
    "import numpy as np\n",
    "def display_corners_car(self):\n",
    "    corners = []\n",
    "    for theta in [self.theta + np.pi/2, self.theta - np.pi/2]:\n",
    "        x = self.car_position[0] + FRONT_WIDTH/2 * np.cos(theta)\n",
    "        y = self.car_position[1] + WHEELBASE/2 * np.sin(theta)\n",
    "        corners.append(np.array([x, y]))\n",
    "        x = self.car_position[0] - FRONT_WIDTH/2 * np.cos(theta)\n",
    "        y = self.car_position[1] - WHEELBASE/2 * np.sin(theta)\n",
    "        corners.append(np.array([x, y]))\n",
    "    print(corners, theta)\n",
    "    return np.array(corners)\n",
    "\n"
   ]
  },
  {
   "cell_type": "code",
   "execution_count": null,
   "metadata": {
    "vscode": {
     "languageId": "plaintext"
    }
   },
   "outputs": [],
   "source": []
  }
 ],
 "metadata": {
  "language_info": {
   "name": "python"
  }
 },
 "nbformat": 4,
 "nbformat_minor": 2
}

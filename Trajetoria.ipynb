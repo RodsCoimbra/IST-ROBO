{
 "cells": [
  {
   "cell_type": "code",
   "execution_count": null,
   "metadata": {},
   "outputs": [],
   "source": [
    "import numpy as np\n",
    "from matplotlib import pyplot as plt\n",
    "dt = 0.1  # Time step\n",
    "T = 10  # Total time\n",
    "omega = 1.0  # Angular velocity (rad/s)\n",
    "acc_z = 1.0  # Linear acceleration along z-axis (m/s^2)\n",
    "\n",
    "# Time array\n",
    "time = np.arange(0, T + dt, dt)\n",
    "\n",
    "# Delta orientation (rotation vector in IMU frame)\n",
    "delta_orientation = np.zeros((len(time), 3))\n",
    "delta_orientation[:, 2] = omega * dt  # Incremental yaw rotation around z-axis\n",
    "\n",
    "# Filtered acceleration in the IMU frame\n",
    "filtered_acceleration = np.zeros((len(time), 3))\n",
    "filtered_acceleration[:, 2] = acc_z + 9.81\n",
    "\n",
    "# Initialize variables\n",
    "t_prev = time[0]\n",
    "vel_prev = np.zeros(3)  # Initial velocity (assume zero)\n",
    "position = [np.zeros(3)]  # Initial position (at origin)\n",
    "total_rotation = np.eye(3)  # Initial orientation (identity matrix)\n",
    "\n",
    "# Gravity in world frame\n",
    "gravity_world = np.array([0, 0, -9.81])  # Downward acceleration due to gravity"
   ]
  },
  {
   "cell_type": "code",
   "execution_count": null,
   "metadata": {},
   "outputs": [],
   "source": [
    "def rotation_matrix(roll, pitch, yaw):\n",
    "    \"\"\"\n",
    "    \"\"\"\n",
    "    c_yaw, s_yaw = np.cos(yaw), np.sin(yaw)  # cos(α), sin(α)\n",
    "    c_pitch, s_pitch = np.cos(pitch), np.sin(pitch)  # cos(β), sin(β)\n",
    "    c_roll, s_roll = np.cos(roll), np.sin(roll)  # cos(γ), sin(γ)\n",
    "    \n",
    "    # Rotation matrix computation\n",
    "    R = np.array([\n",
    "        [c_yaw * c_pitch, c_yaw * s_pitch * s_roll - s_yaw * c_roll, c_yaw * s_pitch * c_roll + s_yaw * s_roll],\n",
    "        [s_yaw * c_pitch, s_yaw * s_pitch * s_roll + c_yaw * c_roll, s_yaw * s_pitch * c_roll - c_yaw * s_roll],\n",
    "        [-s_pitch, c_pitch * s_roll, c_pitch * c_roll]\n",
    "    ])\n",
    "    \n",
    "    return R"
   ]
  },
  {
   "cell_type": "code",
   "execution_count": null,
   "metadata": {},
   "outputs": [],
   "source": [
    "# Loop through data\n",
    "for t, d_orient, ac in zip(time[1:], delta_orientation[1:], filtered_acceleration[1:]):\n",
    "    dt = t - t_prev\n",
    "    delta_rot = rotation_matrix(*d_orient)  \n",
    "    total_rotation = delta_rot @ total_rotation \n",
    "    acc_world = total_rotation @ ac - gravity_world\n",
    "    vel = vel_prev + acc_world * dt\n",
    "    new_pos = position[-1] + vel * dt\n",
    "    position.append(new_pos)\n",
    "    vel_prev = vel\n",
    "    t_prev = t\n",
    "\n",
    "position = np.array(position)\n",
    "\n",
    "fig = plt.figure(figsize=(10, 7))\n",
    "ax = fig.add_subplot(111, projection='3d')\n",
    "# Plot the trajectory\n",
    "ax.plot(position[:,0], position[:,1], position[:,2], label=\"Trajectory\")"
   ]
  }
 ],
 "metadata": {
  "kernelspec": {
   "display_name": "base",
   "language": "python",
   "name": "python3"
  },
  "language_info": {
   "name": "python",
   "version": "3.12.4"
  }
 },
 "nbformat": 4,
 "nbformat_minor": 2
}
